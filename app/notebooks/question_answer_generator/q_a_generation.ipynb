{
 "cells": [
  {
   "cell_type": "markdown",
   "metadata": {},
   "source": [
    "Extract Documents from database and generate questions based on chunk number"
   ]
  },
  {
   "cell_type": "code",
   "execution_count": null,
   "metadata": {},
   "outputs": [
    {
     "name": "stdout",
     "output_type": "stream",
     "text": [
      "Generate questions by chunk or document? document\n"
     ]
    },
    {
     "name": "stderr",
     "output_type": "stream",
     "text": [
      "database connection is not using SSL\n",
      "2024-11-18 22:57:36,406 - INFO - Start processing\n",
      "\u001b[92m22:57:36 - LiteLLM:INFO\u001b[0m: utils.py:2750 - \n",
      "LiteLLM completion() model= gpt-4o; provider = openai\n",
      "2024-11-18 22:57:36,414 - INFO - \n",
      "LiteLLM completion() model= gpt-4o; provider = openai\n"
     ]
    }
   ],
   "source": [
    "import logging\n",
    "from sqlalchemy import select\n",
    "\n",
    "from generate_q_a_pairs import generate_question_answer_pair, write_question_answer_json_to_csv\n",
    "from src.db.models.document import Document\n",
    "from src.app_config import app_config\n",
    "\n",
    "logger = logging.getLogger(__name__)\n",
    "\n",
    "question_gen_selection = input(\"Generate questions by chunk or document?\")\n",
    "\n",
    "with app_config.db_session() as db_session:    \n",
    "    documents = db_session.execute(select(Document)).scalars().all()\n",
    "    fields = [\"question\", \"answer\", \"document_name\", \"document_source\", \"document_id\"]\n",
    "    logging.basicConfig(level=logging.INFO, format=\"%(asctime)s - %(levelname)s - %(message)s\")\n",
    "    logging.info('Start processing')\n",
    "\n",
    "    for document in documents:\n",
    "        chunk_list= document.chunks\n",
    "        if question_gen_selection == \"chunk\":\n",
    "            for chunk in chunk_list:\n",
    "                chunk_q_a_json = generate_question_answer_pair(document=chunk, num_of_chunks=chunk.num_splits)\n",
    "                write_question_answer_json_to_csv(\"question_answer_pairs.csv\", fields, chunk_q_a_json)        \n",
    "        else:\n",
    "            document_q_a_json = generate_question_answer_pair(document=document, num_of_chunks=len(document.chunks))\n",
    "            write_question_answer_json_to_csv(\"question_answer_pairs.csv\", fields, document_q_a_json)        \n",
    "    logger.info(\"Finished processing\")\n"
   ]
  },
  {
   "cell_type": "code",
   "execution_count": null,
   "metadata": {},
   "outputs": [],
   "source": []
  }
 ],
 "metadata": {
  "kernelspec": {
   "display_name": ".venv",
   "language": "python",
   "name": "python3"
  },
  "language_info": {
   "codemirror_mode": {
    "name": "ipython",
    "version": 3
   },
   "file_extension": ".py",
   "mimetype": "text/x-python",
   "name": "python",
   "nbconvert_exporter": "python",
   "pygments_lexer": "ipython3",
   "version": "3.12.4"
  }
 },
 "nbformat": 4,
 "nbformat_minor": 4
}
