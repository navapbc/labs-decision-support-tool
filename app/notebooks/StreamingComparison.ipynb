{
 "cells": [
  {
   "cell_type": "code",
   "execution_count": 6,
   "id": "129dcf7d-b429-4a0f-a611-2ab1c2896af6",
   "metadata": {},
   "outputs": [
    {
     "data": {
      "text/plain": [
       "\"Sure, I'm here to help! What would you like to test or discuss?\""
      ]
     },
     "execution_count": 6,
     "metadata": {},
     "output_type": "execute_result"
    }
   ],
   "source": [
    "from litellm import completion\n",
    "\n",
    "temperature = 0.0\n",
    "\n",
    "def nonstreaming_completion(input):\n",
    "    return completion(model=\"gpt-4o\", messages=[{\"role\": \"user\", \"content\": input}], temperature=temperature).choices[0].message.content\n",
    "\n",
    "def streaming_completion(input):\n",
    "    response_stream = completion(model=\"gpt-4o\", messages=[{\"role\": \"user\", \"content\": input}], temperature=temperature, stream=True)\n",
    "    \n",
    "    response = \"\"\n",
    "    for chunk in response_stream:\n",
    "        if content := chunk.choices[0].delta.content:\n",
    "            response += content\n",
    "\n",
    "    return response"
   ]
  },
  {
   "cell_type": "code",
   "execution_count": 8,
   "id": "ee5da024-d893-4b20-aa5e-26e74f2ffce4",
   "metadata": {},
   "outputs": [
    {
     "name": "stdout",
     "output_type": "stream",
     "text": [
      "The client qualifies for the Standard Utility Allowance (SUA) for heating expenses because they report purchasing kerosene to heat their home. The SUA is typically applicable when a household incurs heating or cooling costs separately from their rent or mortgage. The Telephone Utility Allowance (TUA) is specifically for phone bills, but since the client incurs heating costs, the SUA would be the applicable allowance. Therefore, the client would not qualify for both SUA and TUA together, nor would they be disqualified from utility allowances altogether, as they do have a heating expense.\n",
      "\n",
      "###  \n",
      "A\n",
      "The client qualifies for the Standard Utility Allowance (SUA) for heating expenses because they report purchasing kerosene to heat their home. The SUA is typically applicable when a household incurs heating or cooling costs separately from their rent. The Telephone Utility Allowance (TUA) is specifically for phone bills, but since the client incurs heating costs, the SUA would be the applicable allowance. Therefore, the client would not qualify for both SUA and TUA together, nor would they be disqualified from utility allowances altogether, as they do have a qualifying heating expense.\n",
      "\n",
      "###  \n",
      "A\n",
      "The client qualifies for the Standard Utility Allowance (SUA) because they report purchasing kerosene to heat their home. The SUA is typically applicable when a household incurs heating or cooling expenses. The fact that the client also pays a monthly phone bill does not change the qualification for the SUA, as the SUA covers heating expenses, which are considered more significant. Therefore, the client qualifies for the SUA for heating expenses.\n",
      "\n",
      "###  \n",
      "A\n",
      "The client qualifies for the Standard Utility Allowance (SUA) because they report purchasing kerosene to heat their home. The SUA is applicable when a household incurs heating or cooling expenses separately from their rent or mortgage. Since the client is paying for kerosene, which is a heating expense, they are eligible for the SUA. The Telephone Utility Allowance (TUA) is not applicable in this case because the SUA covers all utilities, including telephone expenses, when heating or cooling costs are incurred. Therefore, the client does not need to separately qualify for the TUA.\n",
      "\n",
      "###  \n",
      "A\n",
      "The client qualifies for the Standard Utility Allowance (SUA) because they report purchasing kerosene to heat their home. The SUA is typically applicable when a household incurs heating or cooling expenses, regardless of the specific utility used for heating. Since the client is paying for kerosene to heat their home, they meet the criteria for the SUA. The Telephone Utility Allowance (TUA) is specifically for phone bills, but since the client qualifies for the SUA due to heating expenses, the SUA would cover the utility allowance needs. Therefore, the client does not need to separately qualify for the TUA. \n",
      "\n",
      "###  \n",
      "A\n",
      "The client qualifies for the Standard Utility Allowance (SUA) because they report purchasing kerosene to heat their home. The SUA is typically applicable when a household incurs heating or cooling expenses. The fact that the client also pays a monthly phone bill does not change the qualification for SUA, as the heating expense is sufficient to qualify for it. Therefore, the client qualifies for the SUA for heating expenses.\n",
      "\n",
      "###  \n",
      "A\n",
      "The client qualifies for the Standard Utility Allowance (SUA) because they report purchasing kerosene to heat their home. The SUA is typically applicable when a household incurs heating or cooling expenses. The fact that the client pays a monthly phone bill is not relevant for the SUA, but it does qualify them for the Telephone Utility Allowance (TUA). However, since the SUA covers heating expenses, which is a more significant utility cost, the client would qualify for the SUA rather than just the TUA. Therefore, the correct answer is that the client qualifies for the SUA for heating expenses.\n",
      "\n",
      "### \n",
      "A\n",
      "The client qualifies for the Standard Utility Allowance (SUA) because they report purchasing kerosene to heat their home. The SUA is typically applicable when a household incurs heating or cooling expenses. The fact that the client also pays a phone bill does not change the qualification for the SUA, as the SUA covers heating expenses, which is a broader category than just the phone bill. Therefore, the client qualifies for the SUA due to their heating expenses.\n",
      "\n",
      "###  \n",
      "A\n",
      "The client qualifies for the Standard Utility Allowance (SUA) because they report purchasing kerosene to heat their home. The SUA is typically applicable when a household incurs heating or cooling expenses. Although the client also pays a monthly phone bill, the SUA generally covers all utilities, including telephone expenses, when heating or cooling costs are involved. Therefore, the client would not need to separately qualify for the Telephone Utility Allowance (TUA) since the SUA encompasses it. \n",
      "\n",
      "###  \n",
      "A\n",
      "The client qualifies for the Standard Utility Allowance (SUA) because they report purchasing kerosene to heat their home. The SUA is typically applicable when a household incurs heating or cooling expenses. The fact that the client also pays a phone bill does not change the qualification for the SUA, as the SUA covers heating expenses, which is a broader category than just the phone bill. Therefore, the client qualifies for the SUA due to their heating expenses.\n",
      "\n",
      "###  \n",
      "A\n",
      "===================================\n",
      "The client qualifies for the Standard Utility Allowance (SUA) because they report purchasing kerosene to heat their home. The SUA is typically applicable when a household incurs heating or cooling expenses. The fact that the client also pays a monthly phone bill does not change the qualification for the SUA, as the SUA covers heating expenses, which are considered more significant. Therefore, the client qualifies for the SUA for heating expenses, not the TUA, which is specifically for phone bills. \n",
      "\n",
      "###  \n",
      "A\n",
      "The client qualifies for the Standard Utility Allowance (SUA) because they report purchasing kerosene to heat their home. The SUA is typically applicable when a household incurs heating or cooling expenses. Although the client also pays a monthly phone bill, the SUA generally covers all utilities, including telephone expenses, when heating or cooling costs are present. Therefore, the client would not need to separately qualify for the Telephone Utility Allowance (TUA) since the SUA encompasses it. \n",
      "\n",
      "###  \n",
      "A\n",
      "The client qualifies for the Standard Utility Allowance (SUA) because they report purchasing kerosene to heat their home. The SUA is typically applicable when a household incurs heating or cooling expenses. The fact that the client pays for heating with kerosene makes them eligible for the SUA. The Telephone Utility Allowance (TUA) is specifically for phone bills, but since the client qualifies for the SUA due to heating expenses, they would not separately qualify for the TUA. Therefore, the correct utility allowance for the client is the SUA for heating expenses.\n",
      "\n",
      "###  \n",
      "A\n",
      "The client qualifies for the Standard Utility Allowance (SUA) for heating expenses because they report purchasing kerosene to heat their home. The SUA is typically applicable when a household incurs heating or cooling costs separately from their rent or mortgage. The Telephone Utility Allowance (TUA) is specifically for phone bills, but since the client incurs heating costs, the SUA would be the appropriate allowance. Therefore, the client would not qualify for both SUA and TUA together, nor would they be disqualified from utility allowances altogether, as they do have a heating expense.\n",
      "\n",
      "###  \n",
      "A\n",
      "The client qualifies for the Standard Utility Allowance (SUA) for heating expenses because they report purchasing kerosene to heat their home. The SUA is typically applicable when a household incurs heating or cooling costs separately from their rent or mortgage. The Telephone Utility Allowance (TUA) is specifically for phone bills, but since the client incurs heating costs, the SUA would be the appropriate allowance. Therefore, the client would not qualify for both SUA and TUA together, nor would they be disqualified from utility allowances altogether, as they do have a qualifying heating expense.\n",
      "\n",
      "### \n",
      "A\n",
      "The client qualifies for the Standard Utility Allowance (SUA) because they report purchasing kerosene to heat their home. The SUA is typically applicable when a household incurs heating or cooling expenses. The fact that the client pays a monthly phone bill would qualify them for the Telephone Utility Allowance (TUA) if they did not have heating expenses. However, since the client has heating expenses, they qualify for the SUA, which generally covers all utilities, including phone expenses. Therefore, the client qualifies for the SUA, not the TUA separately.\n",
      "\n",
      "###  \n",
      "A\n",
      "The client qualifies for the Standard Utility Allowance (SUA) because they report purchasing kerosene to heat their home. The SUA is typically applicable when a household incurs heating or cooling expenses, regardless of the specific utility used for heating. The fact that the client also pays a phone bill does not change the qualification for SUA, as the SUA covers heating expenses, which is a broader category than just the phone bill. Therefore, the client qualifies for the SUA due to their heating expenses.\n",
      "\n",
      "###  \n",
      "A\n",
      "The client qualifies for the Standard Utility Allowance (SUA) because they report purchasing kerosene to heat their home. The SUA is typically applicable when a household incurs heating or cooling expenses. The fact that the client pays a monthly phone bill would qualify them for the Telephone Utility Allowance (TUA) if they did not qualify for the SUA. However, since the client incurs heating expenses, they qualify for the SUA, which generally covers all utilities, including telephone expenses. Therefore, the client qualifies for the SUA, not the TUA separately.\n",
      "\n",
      "###  \n",
      "A\n",
      "The client qualifies for the Standard Utility Allowance (SUA) because they report purchasing kerosene to heat their home. The SUA is typically applicable when a household incurs heating or cooling expenses. The fact that the client also pays a monthly phone bill does not change the qualification for the SUA, as the SUA covers heating expenses, which are considered more significant. Therefore, the client qualifies for the SUA for heating expenses.\n",
      "\n",
      "###  \n",
      "A\n",
      "The client qualifies for the Standard Utility Allowance (SUA) because they report purchasing kerosene to heat their home. The SUA is typically applicable when a household incurs heating or cooling expenses. The fact that the client also pays a monthly phone bill does not change the qualification for the SUA, as the SUA covers heating expenses, which are considered more significant. Therefore, the client qualifies for the SUA for heating expenses.\n",
      "\n",
      "###  \n",
      "A\n"
     ]
    }
   ],
   "source": [
    "test_input = \"\"\"Client Attributes\n",
    "Employment status: Not in labor force\n",
    "Age: Senior (60+)\n",
    "Gender: Male\n",
    "Household immigration status: All U.S. Citizens\n",
    "Disability status: Receives SSI/RSDI\n",
    "Program: CalFresh\n",
    "The client reports purchasing kerosene to heat their home and paying a monthly phone bill. The client does not pay for any other utilities. Which utility allowance does the client qualify for? Select one correct answer.\n",
    "Please provide your rationale without any reference to the multiple choice letters, followed by ###, and then provide only the single letter choice that you believe is correct.\n",
    "A. SUA (Standard Utility Allowance) for heating expenses\n",
    "B. TUA (Telephone Utility Allowance) for the phone bill\n",
    "C. SUA and TUA together, as both utilities are eligible\n",
    "D. No utility allowances, as the client does not pay for electricity or water\"\"\"\n",
    "\n",
    "for i in range(10):\n",
    "    print(nonstreaming_completion(test_input))\n",
    "\n",
    "print(\"===================================\")\n",
    "\n",
    "for i in range(10):\n",
    "    print(streaming_completion(test_input))"
   ]
  },
  {
   "cell_type": "code",
   "execution_count": 9,
   "id": "332c1da0-bd17-4c81-8b72-17937638d6a9",
   "metadata": {},
   "outputs": [],
   "source": [
    "from src.chat_engine import ImagineLaEngine\n",
    "\n",
    "engine = ImagineLaEngine()"
   ]
  },
  {
   "cell_type": "code",
   "execution_count": 12,
   "id": "f8ef5aea-ccb0-4baa-9c15-d3e61eed01ca",
   "metadata": {},
   "outputs": [
    {
     "data": {
      "text/plain": [
       "'The client qualifies for the Standard Utility Allowance (SUA) for heating expenses because they purchase kerosene to heat their home. The SUA is applicable for heating expenses, which includes costs for heating fuel like kerosene. The Telephone Utility Allowance (TUA) is for phone bills, but since the client already qualifies for the SUA due to heating expenses, they would not separately qualify for the TUA. Therefore, the correct choice is the SUA for heating expenses.\\n\\n### A'"
      ]
     },
     "execution_count": 12,
     "metadata": {},
     "output_type": "execute_result"
    }
   ],
   "source": [
    "engine.on_message(test_input).response"
   ]
  },
  {
   "cell_type": "code",
   "execution_count": 15,
   "id": "4ea19107-dcae-4053-aa6f-70ab260bd60b",
   "metadata": {},
   "outputs": [
    {
     "data": {
      "text/plain": [
       "'2c86bce760b09cb9d35c4256dea60879'"
      ]
     },
     "execution_count": 15,
     "metadata": {},
     "output_type": "execute_result"
    }
   ],
   "source": [
    "from hashlib import md5\n",
    "md5(test_input.encode(\"utf-8\")).hexdigest()"
   ]
  }
 ],
 "metadata": {
  "kernelspec": {
   "display_name": "Python 3 (ipykernel)",
   "language": "python",
   "name": "python3"
  },
  "language_info": {
   "codemirror_mode": {
    "name": "ipython",
    "version": 3
   },
   "file_extension": ".py",
   "mimetype": "text/x-python",
   "name": "python",
   "nbconvert_exporter": "python",
   "pygments_lexer": "ipython3",
   "version": "3.12.10"
  }
 },
 "nbformat": 4,
 "nbformat_minor": 5
}
